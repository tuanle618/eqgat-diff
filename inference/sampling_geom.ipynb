{
 "cells": [
  {
   "cell_type": "markdown",
   "id": "d157d8a5",
   "metadata": {},
   "source": [
    "## Inference Notebook \n",
    "\n",
    "We provide a minimal notebook to run the sampling and inference of a EQGAT-Diff model trained on the GEOM-Drugs dataset.\n",
    "This notebook is in the `inference/` subdirectory.\n",
    "\n",
    "We append the `../eqgat_diff` directory into the path to load all required modules.\n",
    "\n",
    "The GEOM-Drugs* dataset is saved in `../data/geom/` and for size reason, we uploaded only the dataset statistics, like, the empirical distribution for molecule size, or atom- and edge-features.\n",
    "\n",
    "The original training/validation and test sets are currently not provided, as this notebook only serves as inference showcase.\n",
    "\n",
    "The model weights are provided upon request as of now."
   ]
  },
  {
   "cell_type": "code",
   "execution_count": 1,
   "id": "4254d96d",
   "metadata": {},
   "outputs": [],
   "source": [
    "import warnings\n",
    "warnings.filterwarnings(\"ignore\")"
   ]
  },
  {
   "cell_type": "code",
   "execution_count": 2,
   "id": "d767eeb6",
   "metadata": {},
   "outputs": [],
   "source": [
    "import sys\n",
    "sys.path.append(\"../eqgat_diff\")"
   ]
  },
  {
   "cell_type": "code",
   "execution_count": 3,
   "id": "7779b50c",
   "metadata": {},
   "outputs": [],
   "source": [
    "import argparse\n",
    "import os\n",
    "import pickle\n",
    "import warnings\n",
    "\n",
    "import numpy as np\n",
    "import torch\n",
    "from tqdm import tqdm\n",
    "\n",
    "warnings.filterwarnings(\n",
    "    \"ignore\", category=UserWarning, message=\"TypedStorage is deprecated\"\n",
    ")\n"
   ]
  },
  {
   "cell_type": "code",
   "execution_count": 4,
   "id": "444f4f54",
   "metadata": {},
   "outputs": [
    {
     "data": {
      "application/vnd.jupyter.widget-view+json": {
       "model_id": "c1a2478a981340fd989b74aa562ad40c",
       "version_major": 2,
       "version_minor": 0
      },
      "text/plain": []
     },
     "metadata": {},
     "output_type": "display_data"
    }
   ],
   "source": [
    "import rdkit\n",
    "from rdkit.Chem.Draw import IPythonConsole\n",
    "from rdkit import Chem\n",
    "import nglview\n",
    "IPythonConsole.ipython_useSVG = True \n",
    "IPythonConsole.molSize = 400, 400\n",
    "IPythonConsole.drawOptions.addAtomIndices = True\n",
    "IPythonConsole.ipython_3d = True"
   ]
  },
  {
   "cell_type": "code",
   "execution_count": 5,
   "id": "8c0dda22",
   "metadata": {},
   "outputs": [],
   "source": [
    "class dotdict(dict):\n",
    "    \"\"\"dot.notation access to dictionary attributes\"\"\"\n",
    "\n",
    "    __getattr__ = dict.get\n",
    "    __setattr__ = dict.__setitem__\n",
    "    __delattr__ = dict.__delitem__\n"
   ]
  },
  {
   "cell_type": "code",
   "execution_count": 6,
   "id": "2bec3249",
   "metadata": {},
   "outputs": [],
   "source": [
    "from experiments.diffusion_discrete import Trainer\n",
    "from experiments.data.geom.geom_dataset_adaptive import (\n",
    "    GeomDataModule as DataModule,\n",
    ")\n",
    "from experiments.data.data_info import GeneralInfos as DataInfos"
   ]
  },
  {
   "cell_type": "code",
   "execution_count": 7,
   "id": "541823cb",
   "metadata": {},
   "outputs": [],
   "source": [
    "model_path = \"../weights/geom/best_mol_stab.ckpt\""
   ]
  },
  {
   "cell_type": "code",
   "execution_count": 8,
   "id": "d59ad27c",
   "metadata": {},
   "outputs": [
    {
     "name": "stdout",
     "output_type": "stream",
     "text": [
      "Loading drugs Datamodule.\n"
     ]
    }
   ],
   "source": [
    "# load hyperparameter\n",
    "ckpt = torch.load(model_path, map_location=\"cpu\")\n",
    "hparams = ckpt[\"hyper_parameters\"]\n",
    "hparams[\"select_train_subset\"] = False\n",
    "hparams[\"diffusion_pretraining\"] = False\n",
    "hparams[\"num_charge_classes\"] = 6\n",
    "hparams = dotdict(hparams)\n",
    "\n",
    "hparams.load_ckpt_from_pretrained = None\n",
    "hparams.load_ckpt = None\n",
    "hparams.gpus = 1\n",
    "\n",
    "print(f\"Loading {hparams.dataset} Datamodule.\")"
   ]
  },
  {
   "cell_type": "code",
   "execution_count": 9,
   "id": "ec48ef28",
   "metadata": {},
   "outputs": [],
   "source": [
    "hparams.dataset_root = \"../data/geom\""
   ]
  },
  {
   "cell_type": "code",
   "execution_count": 10,
   "id": "c82b0d84",
   "metadata": {},
   "outputs": [
    {
     "data": {
      "text/plain": [
       "device(type='cuda')"
      ]
     },
     "execution_count": 10,
     "metadata": {},
     "output_type": "execute_result"
    }
   ],
   "source": [
    "device = \"cuda\" if torch.cuda.is_available() else \"cpu\"\n",
    "device = torch.device(device)\n",
    "device"
   ]
  },
  {
   "cell_type": "code",
   "execution_count": 11,
   "id": "443698b6",
   "metadata": {},
   "outputs": [],
   "source": [
    "datamodule = DataModule(hparams, only_stats=True)"
   ]
  },
  {
   "cell_type": "code",
   "execution_count": 12,
   "id": "64499901",
   "metadata": {},
   "outputs": [],
   "source": [
    "dataset_info = DataInfos(datamodule, hparams)"
   ]
  },
  {
   "cell_type": "code",
   "execution_count": 13,
   "id": "db3d87a3",
   "metadata": {},
   "outputs": [],
   "source": [
    "train_smiles = (\n",
    "    list(datamodule.train_dataset.smiles)\n",
    "    if hparams.dataset != \"pubchem\"\n",
    "    else datamodule.train_smiles\n",
    ")\n",
    "prop_norm, prop_dist = None, None"
   ]
  },
  {
   "cell_type": "code",
   "execution_count": 14,
   "id": "340af9e8",
   "metadata": {},
   "outputs": [],
   "source": [
    "model = Trainer.load_from_checkpoint(model_path,\n",
    "                                     dataset_info=dataset_info,\n",
    "                                     smiles_list=train_smiles,\n",
    "                                     prop_norm=prop_norm,\n",
    "                                     prop_dist=prop_dist,\n",
    "                                     load_ckpt_from_pretrained=None,\n",
    "                                     load_ckpt=None,\n",
    "                                     run_evaluation=True,\n",
    "                                     strict=False,\n",
    "                                ).to(device)\n",
    "model = model.eval()"
   ]
  },
  {
   "cell_type": "code",
   "execution_count": 15,
   "id": "6bfd3860",
   "metadata": {},
   "outputs": [],
   "source": [
    "save_dir = \"tmp\"\n",
    "if not os.path.exists(save_dir):\n",
    "    os.makedirs(save_dir)\n",
    "save_dir = \"tmp/geom\"\n",
    "if not os.path.exists(save_dir):\n",
    "    os.makedirs(save_dir)"
   ]
  },
  {
   "cell_type": "markdown",
   "id": "12150549",
   "metadata": {},
   "source": [
    "### Generating\n",
    "\n",
    "We generate in total 100 molecules where each batch consists of 50 samples.\n",
    "On an H100, the running time should be about 57s per batch.  \n",
    "The iterator goes over the reverse diffusion time steps $T=500$.  \n",
    "\n",
    "The device is set to \"cpu\" in the model.run_evaluation since the evaluation statistics can be computed on cpu."
   ]
  },
  {
   "cell_type": "code",
   "execution_count": 16,
   "id": "d058f305",
   "metadata": {},
   "outputs": [],
   "source": [
    "step=0\n",
    "ngraphs=100\n",
    "batch_size=50"
   ]
  },
  {
   "cell_type": "code",
   "execution_count": 17,
   "id": "91cc7ab2",
   "metadata": {},
   "outputs": [
    {
     "name": "stdout",
     "output_type": "stream",
     "text": [
      "Creating 100 graphs in [50, 50] batches\n"
     ]
    },
    {
     "name": "stderr",
     "output_type": "stream",
     "text": [
      "100%|██████████| 500/500 [00:57<00:00,  8.72it/s]\n",
      "100%|██████████| 500/500 [00:58<00:00,  8.49it/s]\n"
     ]
    },
    {
     "name": "stdout",
     "output_type": "stream",
     "text": [
      "Analyzing molecule stability\n",
      "Error messages: AtomValence 8, Kekulize 10, other 0,  -- No error 78\n",
      "Validity over 100 molecules: 78.00%\n",
      "Number of connected components of 100 molecules: mean:1.04 max:2.00\n",
      "Connected components of 100 molecules: 96.00\n",
      "Sparsity level on local rank 0: 95 %\n",
      "Run time=0:03:34.810729\n",
      "{'mol_stable': 0.9200000166893005, 'atm_stable': 0.9973741769790649, 'validity': 0.7799999713897705, 'sanitize_validity': 0.82, 'novelty': 1.0, 'uniqueness': 1.0, 'sampling/NumNodesW1': 1.3309286832809448, 'sampling/AtomTypesTV': 0.041406456381082535, 'sampling/EdgeTypesTV': 0.024203144013881683, 'sampling/ChargeW1': 0.0018256631447002292, 'sampling/ValencyW1': 0.013406765647232533, 'sampling/BondLengthsW1': 0.0007810961687937379, 'sampling/AnglesW1': 0.7763100862503052, 'connected_components': 96.0, 'bulk_similarity': 0.11161660142854338, 'bulk_diversity': 0.8921453170515329, 'kl_score': 0.7774316506076151, 'QED': 0.6076937689257759, 'SA': 0.7434615384615384, 'LogP': 2.383404871794873, 'Lipinski': 4.923076923076923, 'Diversity': 0.69952385557996}\n",
      "   mol_stable  atm_stable  validity  sanitize_validity  novelty  uniqueness  \\\n",
      "0        0.92    0.997374      0.78               0.82      1.0         1.0   \n",
      "\n",
      "   sampling/NumNodesW1  sampling/AtomTypesTV  sampling/EdgeTypesTV  \\\n",
      "0             1.330929              0.041406              0.024203   \n",
      "\n",
      "   sampling/ChargeW1  ...  sampling/AnglesW1  connected_components  \\\n",
      "0           0.001826  ...            0.77631                  96.0   \n",
      "\n",
      "   bulk_similarity  bulk_diversity  kl_score       QED        SA      LogP  \\\n",
      "0         0.111617        0.892145  0.777432  0.607694  0.743462  2.383405   \n",
      "\n",
      "   Lipinski  Diversity  \n",
      "0  4.923077   0.699524  \n",
      "\n",
      "[1 rows x 22 columns]\n"
     ]
    }
   ],
   "source": [
    "with torch.no_grad():\n",
    "    results_dict, generated_smiles, stable_molecules = model.run_evaluation(\n",
    "        step=step,\n",
    "        dataset_info=model.dataset_info,\n",
    "        ngraphs=ngraphs,\n",
    "        bs=batch_size,\n",
    "        return_molecules=True,\n",
    "        verbose=True,\n",
    "        inner_verbose=True,\n",
    "        run_test_eval=True,\n",
    "        device=\"cpu\",\n",
    "        save_dir=save_dir,\n",
    "    )"
   ]
  },
  {
   "cell_type": "code",
   "execution_count": 18,
   "id": "be8b09ee",
   "metadata": {},
   "outputs": [
    {
     "data": {
      "text/html": [
       "<div>\n",
       "<style scoped>\n",
       "    .dataframe tbody tr th:only-of-type {\n",
       "        vertical-align: middle;\n",
       "    }\n",
       "\n",
       "    .dataframe tbody tr th {\n",
       "        vertical-align: top;\n",
       "    }\n",
       "\n",
       "    .dataframe thead th {\n",
       "        text-align: right;\n",
       "    }\n",
       "</style>\n",
       "<table border=\"1\" class=\"dataframe\">\n",
       "  <thead>\n",
       "    <tr style=\"text-align: right;\">\n",
       "      <th></th>\n",
       "      <th>mol_stable</th>\n",
       "      <th>atm_stable</th>\n",
       "      <th>validity</th>\n",
       "      <th>sanitize_validity</th>\n",
       "      <th>novelty</th>\n",
       "      <th>uniqueness</th>\n",
       "      <th>sampling/NumNodesW1</th>\n",
       "      <th>sampling/AtomTypesTV</th>\n",
       "      <th>sampling/EdgeTypesTV</th>\n",
       "      <th>sampling/ChargeW1</th>\n",
       "      <th>...</th>\n",
       "      <th>kl_score</th>\n",
       "      <th>QED</th>\n",
       "      <th>SA</th>\n",
       "      <th>LogP</th>\n",
       "      <th>Lipinski</th>\n",
       "      <th>Diversity</th>\n",
       "      <th>step</th>\n",
       "      <th>epoch</th>\n",
       "      <th>run_time</th>\n",
       "      <th>ngraphs</th>\n",
       "    </tr>\n",
       "  </thead>\n",
       "  <tbody>\n",
       "    <tr>\n",
       "      <th>0</th>\n",
       "      <td>0.92</td>\n",
       "      <td>0.997374</td>\n",
       "      <td>0.78</td>\n",
       "      <td>0.82</td>\n",
       "      <td>1.0</td>\n",
       "      <td>1.0</td>\n",
       "      <td>1.330929</td>\n",
       "      <td>0.041406</td>\n",
       "      <td>0.024203</td>\n",
       "      <td>0.001826</td>\n",
       "      <td>...</td>\n",
       "      <td>0.777432</td>\n",
       "      <td>0.607694</td>\n",
       "      <td>0.743462</td>\n",
       "      <td>2.383405</td>\n",
       "      <td>4.923077</td>\n",
       "      <td>0.699524</td>\n",
       "      <td>0</td>\n",
       "      <td>0</td>\n",
       "      <td>0:03:34.810729</td>\n",
       "      <td>100</td>\n",
       "    </tr>\n",
       "  </tbody>\n",
       "</table>\n",
       "<p>1 rows × 26 columns</p>\n",
       "</div>"
      ],
      "text/plain": [
       "   mol_stable  atm_stable  validity  sanitize_validity  novelty  uniqueness  \\\n",
       "0        0.92    0.997374      0.78               0.82      1.0         1.0   \n",
       "\n",
       "   sampling/NumNodesW1  sampling/AtomTypesTV  sampling/EdgeTypesTV  \\\n",
       "0             1.330929              0.041406              0.024203   \n",
       "\n",
       "   sampling/ChargeW1  ...  kl_score       QED        SA      LogP  Lipinski  \\\n",
       "0           0.001826  ...  0.777432  0.607694  0.743462  2.383405  4.923077   \n",
       "\n",
       "   Diversity  step  epoch        run_time  ngraphs  \n",
       "0   0.699524     0      0  0:03:34.810729      100  \n",
       "\n",
       "[1 rows x 26 columns]"
      ]
     },
     "execution_count": 18,
     "metadata": {},
     "output_type": "execute_result"
    }
   ],
   "source": [
    "results_dict"
   ]
  },
  {
   "cell_type": "code",
   "execution_count": 19,
   "id": "8eeb34ef",
   "metadata": {},
   "outputs": [
    {
     "data": {
      "application/vnd.jupyter.widget-view+json": {
       "model_id": "329fc294e2c544fe9f78ff65ced82536",
       "version_major": 2,
       "version_minor": 0
      },
      "text/plain": [
       "NGLWidget()"
      ]
     },
     "metadata": {},
     "output_type": "display_data"
    }
   ],
   "source": [
    "nglview.show_rdkit(stable_molecules[0].rdkit_mol)"
   ]
  },
  {
   "cell_type": "markdown",
   "id": "eecb27d6",
   "metadata": {},
   "source": [
    "### Generating only valid molecules"
   ]
  },
  {
   "cell_type": "code",
   "execution_count": 20,
   "id": "1a8f82ec",
   "metadata": {},
   "outputs": [
    {
     "name": "stdout",
     "output_type": "stream",
     "text": [
      "Creating 100 graphs in [50, 50] batches\n"
     ]
    },
    {
     "name": "stderr",
     "output_type": "stream",
     "text": [
      "100%|██████████| 500/500 [00:57<00:00,  8.64it/s]\n",
      "100%|██████████| 500/500 [00:51<00:00,  9.64it/s]\n"
     ]
    },
    {
     "name": "stdout",
     "output_type": "stream",
     "text": [
      "Analyzing molecule stability\n",
      "Error messages: AtomValence 5, Kekulize 9, other 0,  -- No error 80\n",
      "Validity over 100 molecules: 80.00%\n",
      "Number of connected components of 100 molecules: mean:1.06 max:2.00\n",
      "Connected components of 100 molecules: 94.00\n",
      "Creating 40 graphs in [40] batches\n"
     ]
    },
    {
     "name": "stderr",
     "output_type": "stream",
     "text": [
      "100%|██████████| 500/500 [00:46<00:00, 10.84it/s]\n"
     ]
    },
    {
     "name": "stdout",
     "output_type": "stream",
     "text": [
      "Analyzing molecule stability\n",
      "Error messages: AtomValence 2, Kekulize 2, other 0,  -- No error 34\n",
      "Validity over 40 molecules: 85.00%\n",
      "Number of connected components of 40 molecules: mean:1.05 max:2.00\n",
      "Connected components of 40 molecules: 95.00\n",
      "Analyzing molecule stability\n",
      "Error messages: AtomValence 0, Kekulize 0, other 0,  -- No error 114\n",
      "Validity over 114 molecules: 100.00%\n",
      "Number of connected components of 114 molecules: mean:1.00 max:1.00\n",
      "Connected components of 114 molecules: 100.00\n",
      "Sparsity level on local rank 0: 95 %\n",
      "Run time=0:07:14.022570\n",
      "{'mol_stable': 1.0, 'atm_stable': 1.0, 'validity': 1.0, 'sanitize_validity': 1.0, 'novelty': 1.0, 'uniqueness': 1.0, 'sampling/NumNodesW1': 1.8128700256347656, 'sampling/AtomTypesTV': 0.03898381441831589, 'sampling/EdgeTypesTV': 0.027824774384498596, 'sampling/ChargeW1': 0.002566906390711665, 'sampling/ValencyW1': 0.012142395600676537, 'sampling/BondLengthsW1': 0.0007226535235531628, 'sampling/AnglesW1': 0.5905836820602417, 'connected_components': 100.0, 'bulk_similarity': 0.11182559679351176, 'bulk_diversity': 0.8935357804022135, 'kl_score': 0.852339836336993, 'QED': 0.6100235399687303, 'SA': 0.7591228070175439, 'LogP': 2.242562631578948, 'Lipinski': 4.9298245614035086, 'Diversity': 0.7143656904450658}\n",
      "   mol_stable  atm_stable  validity  sanitize_validity  novelty  uniqueness  \\\n",
      "0         1.0         1.0       1.0                1.0      1.0         1.0   \n",
      "\n",
      "   sampling/NumNodesW1  sampling/AtomTypesTV  sampling/EdgeTypesTV  \\\n",
      "0              1.81287              0.038984              0.027825   \n",
      "\n",
      "   sampling/ChargeW1  ...  sampling/AnglesW1  connected_components  \\\n",
      "0           0.002567  ...           0.590584                 100.0   \n",
      "\n",
      "   bulk_similarity  bulk_diversity  kl_score       QED        SA      LogP  \\\n",
      "0         0.111826        0.893536   0.85234  0.610024  0.759123  2.242563   \n",
      "\n",
      "   Lipinski  Diversity  \n",
      "0  4.929825   0.714366  \n",
      "\n",
      "[1 rows x 22 columns]\n"
     ]
    }
   ],
   "source": [
    "with torch.no_grad():\n",
    "    results_dict, generated_smiles, stable_molecules = model.generate_valid_samples(\n",
    "        dataset_info=model.dataset_info,\n",
    "        ngraphs=100,\n",
    "        bs=batch_size,\n",
    "        return_molecules=True,\n",
    "        verbose=True,\n",
    "        inner_verbose=True,\n",
    "        device=\"cpu\",\n",
    "        save_dir=save_dir,\n",
    "    )"
   ]
  },
  {
   "cell_type": "code",
   "execution_count": 21,
   "id": "0538f6b3",
   "metadata": {},
   "outputs": [
    {
     "data": {
      "application/vnd.jupyter.widget-view+json": {
       "model_id": "b425c24bfb164bfca78d24c85b322753",
       "version_major": 2,
       "version_minor": 0
      },
      "text/plain": [
       "NGLWidget()"
      ]
     },
     "metadata": {},
     "output_type": "display_data"
    }
   ],
   "source": [
    "nglview.show_rdkit(stable_molecules[0].rdkit_mol)"
   ]
  },
  {
   "cell_type": "code",
   "execution_count": 22,
   "id": "48cd8236",
   "metadata": {},
   "outputs": [
    {
     "data": {
      "application/vnd.jupyter.widget-view+json": {
       "model_id": "09b05328c8bc4d5fb5266be005f40afa",
       "version_major": 2,
       "version_minor": 0
      },
      "text/plain": [
       "NGLWidget()"
      ]
     },
     "metadata": {},
     "output_type": "display_data"
    }
   ],
   "source": [
    "nglview.show_rdkit(stable_molecules[1].rdkit_mol)"
   ]
  },
  {
   "cell_type": "code",
   "execution_count": 23,
   "id": "b843aeae",
   "metadata": {},
   "outputs": [
    {
     "data": {
      "application/vnd.jupyter.widget-view+json": {
       "model_id": "7b33b6e2290046878d38a6b64e2f60f0",
       "version_major": 2,
       "version_minor": 0
      },
      "text/plain": [
       "NGLWidget()"
      ]
     },
     "metadata": {},
     "output_type": "display_data"
    }
   ],
   "source": [
    "nglview.show_rdkit(stable_molecules[-1].rdkit_mol)"
   ]
  },
  {
   "cell_type": "code",
   "execution_count": 24,
   "id": "504be01c",
   "metadata": {
    "scrolled": true
   },
   "outputs": [
    {
     "data": {
      "application/vnd.jupyter.widget-view+json": {
       "model_id": "8509c819c8da439ea06b2594a1d94115",
       "version_major": 2,
       "version_minor": 0
      },
      "text/plain": [
       "NGLWidget()"
      ]
     },
     "metadata": {},
     "output_type": "display_data"
    }
   ],
   "source": [
    "nglview.show_rdkit(stable_molecules[-2].rdkit_mol)"
   ]
  },
  {
   "cell_type": "code",
   "execution_count": null,
   "id": "abd7f495",
   "metadata": {},
   "outputs": [],
   "source": []
  }
 ],
 "metadata": {
  "kernelspec": {
   "display_name": "Python 3 (ipykernel)",
   "language": "python",
   "name": "python3"
  },
  "language_info": {
   "codemirror_mode": {
    "name": "ipython",
    "version": 3
   },
   "file_extension": ".py",
   "mimetype": "text/x-python",
   "name": "python",
   "nbconvert_exporter": "python",
   "pygments_lexer": "ipython3",
   "version": "3.10.0"
  }
 },
 "nbformat": 4,
 "nbformat_minor": 5
}
