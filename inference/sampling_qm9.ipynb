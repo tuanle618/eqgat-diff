{
 "cells": [
  {
   "cell_type": "markdown",
   "id": "bb0407bb",
   "metadata": {},
   "source": [
    "## Inference Notebook \n",
    "\n",
    "We provide a minimal notebook to run the sampling and inference of a EQGAT-Diff model trained on the QM9 dataset.\n",
    "This notebook is in the `inference/` subdirectory.\n",
    "\n",
    "We append the `../eqgat_diff` directory into the path to load all required modules.\n",
    "\n",
    "The QM9 dataset is saved in `../data/qm9/` and for size reason, we uploaded only the dataset statistics, like, the empirical distribution for molecule size, or atom- and edge-features.\n",
    "\n",
    "The original training/validation and test sets are currently not provided, as this notebook only serves as inference showcase.\n",
    "\n",
    "The model weights are provided upon request as of now."
   ]
  },
  {
   "cell_type": "code",
   "execution_count": 1,
   "id": "3280b487",
   "metadata": {},
   "outputs": [],
   "source": [
    "import warnings\n",
    "warnings.filterwarnings(\"ignore\")"
   ]
  },
  {
   "cell_type": "code",
   "execution_count": 2,
   "id": "d25a61e0",
   "metadata": {},
   "outputs": [],
   "source": [
    "import sys\n",
    "sys.path.append(\"../eqgat_diff\")"
   ]
  },
  {
   "cell_type": "code",
   "execution_count": 3,
   "id": "9e55de01",
   "metadata": {},
   "outputs": [],
   "source": [
    "import argparse\n",
    "import os\n",
    "import pickle\n",
    "import warnings\n",
    "\n",
    "import numpy as np\n",
    "import torch\n",
    "from tqdm import tqdm\n",
    "\n",
    "warnings.filterwarnings(\n",
    "    \"ignore\", category=UserWarning, message=\"TypedStorage is deprecated\"\n",
    ")"
   ]
  },
  {
   "cell_type": "code",
   "execution_count": 4,
   "id": "4046776e",
   "metadata": {},
   "outputs": [
    {
     "data": {
      "application/vnd.jupyter.widget-view+json": {
       "model_id": "405e7860000c49b2aa44ed03f4f40da6",
       "version_major": 2,
       "version_minor": 0
      },
      "text/plain": []
     },
     "metadata": {},
     "output_type": "display_data"
    }
   ],
   "source": [
    "import rdkit\n",
    "from rdkit.Chem.Draw import IPythonConsole\n",
    "from rdkit import Chem\n",
    "import nglview\n",
    "IPythonConsole.ipython_useSVG = True \n",
    "IPythonConsole.molSize = 400, 400\n",
    "IPythonConsole.drawOptions.addAtomIndices = True\n",
    "IPythonConsole.ipython_3d = True"
   ]
  },
  {
   "cell_type": "code",
   "execution_count": 5,
   "id": "cc8299de",
   "metadata": {},
   "outputs": [],
   "source": [
    "class dotdict(dict):\n",
    "    \"\"\"dot.notation access to dictionary attributes\"\"\"\n",
    "\n",
    "    __getattr__ = dict.get\n",
    "    __setattr__ = dict.__setitem__\n",
    "    __delattr__ = dict.__delitem__\n"
   ]
  },
  {
   "cell_type": "code",
   "execution_count": 6,
   "id": "ac07093f",
   "metadata": {},
   "outputs": [],
   "source": [
    "from experiments.diffusion_discrete import Trainer\n",
    "from experiments.data.qm9.qm9_dataset import (\n",
    "    QM9DataModule as DataModule,\n",
    ")\n",
    "from experiments.data.data_info import GeneralInfos as DataInfos"
   ]
  },
  {
   "cell_type": "code",
   "execution_count": 7,
   "id": "18c3c8e0",
   "metadata": {},
   "outputs": [],
   "source": [
    "model_path = \"../weights/qm9/best_mol_stab.ckpt\""
   ]
  },
  {
   "cell_type": "code",
   "execution_count": 8,
   "id": "d14dfbfd",
   "metadata": {},
   "outputs": [
    {
     "name": "stdout",
     "output_type": "stream",
     "text": [
      "Loading qm9 Datamodule.\n"
     ]
    }
   ],
   "source": [
    "# load hyperparameter\n",
    "ckpt = torch.load(model_path, map_location=\"cpu\")\n",
    "hparams = ckpt[\"hyper_parameters\"]\n",
    "hparams[\"select_train_subset\"] = False\n",
    "hparams[\"diffusion_pretraining\"] = False\n",
    "hparams[\"num_charge_classes\"] = 6\n",
    "hparams = dotdict(hparams)\n",
    "\n",
    "hparams.load_ckpt_from_pretrained = None\n",
    "hparams.load_ckpt = None\n",
    "hparams.gpus = 1\n",
    "\n",
    "print(f\"Loading {hparams.dataset} Datamodule.\")"
   ]
  },
  {
   "cell_type": "code",
   "execution_count": 9,
   "id": "5d38075a",
   "metadata": {},
   "outputs": [],
   "source": [
    "hparams.dataset_root = \"../data/qm9\""
   ]
  },
  {
   "cell_type": "code",
   "execution_count": 10,
   "id": "c94cfaa5",
   "metadata": {},
   "outputs": [
    {
     "data": {
      "text/plain": [
       "device(type='cuda')"
      ]
     },
     "execution_count": 10,
     "metadata": {},
     "output_type": "execute_result"
    }
   ],
   "source": [
    "device = \"cuda\" if torch.cuda.is_available() else \"cpu\"\n",
    "device = torch.device(device)\n",
    "device"
   ]
  },
  {
   "cell_type": "code",
   "execution_count": 11,
   "id": "e9a35065",
   "metadata": {},
   "outputs": [],
   "source": [
    "datamodule = DataModule(hparams, only_stats=True)"
   ]
  },
  {
   "cell_type": "code",
   "execution_count": 12,
   "id": "0fce105e",
   "metadata": {},
   "outputs": [],
   "source": [
    "dataset_info = DataInfos(datamodule, hparams)"
   ]
  },
  {
   "cell_type": "code",
   "execution_count": 13,
   "id": "436a15f5",
   "metadata": {},
   "outputs": [],
   "source": [
    "train_smiles = (\n",
    "    list(datamodule.train_dataset.smiles)\n",
    "    if hparams.dataset != \"pubchem\"\n",
    "    else datamodule.train_smiles\n",
    ")\n",
    "prop_norm, prop_dist = None, None"
   ]
  },
  {
   "cell_type": "code",
   "execution_count": 14,
   "id": "7fecce7f",
   "metadata": {},
   "outputs": [],
   "source": [
    "model = Trainer.load_from_checkpoint(model_path,\n",
    "                                     dataset_info=dataset_info,\n",
    "                                     smiles_list=train_smiles,\n",
    "                                     prop_norm=prop_norm,\n",
    "                                     prop_dist=prop_dist,\n",
    "                                     load_ckpt_from_pretrained=None,\n",
    "                                     load_ckpt=None,\n",
    "                                     run_evaluation=True,\n",
    "                                     strict=False,\n",
    "                                ).to(device)\n",
    "model = model.eval()"
   ]
  },
  {
   "cell_type": "code",
   "execution_count": 15,
   "id": "420e792f",
   "metadata": {},
   "outputs": [],
   "source": [
    "save_dir = \"tmp\"\n",
    "if not os.path.exists(save_dir):\n",
    "    os.makedirs(save_dir)\n",
    "save_dir = \"tmp/qm9\"\n",
    "if not os.path.exists(save_dir):\n",
    "    os.makedirs(save_dir)"
   ]
  },
  {
   "cell_type": "markdown",
   "id": "2c65c83a",
   "metadata": {},
   "source": [
    "### Generating\n",
    "\n",
    "We generate in total 100 molecules where each batch consists of 50 samples. \n",
    "On an H100, the running time should be about 15s per batch.   \n",
    "The iterator goes over the reverse diffusion time steps $T=500$.  \n",
    "\n",
    "The device is set to \"cpu\" in the model.run_evaluation since the evaluation statistics can be computed on cpu."
   ]
  },
  {
   "cell_type": "code",
   "execution_count": 16,
   "id": "5afadb70",
   "metadata": {},
   "outputs": [],
   "source": [
    "step=0\n",
    "ngraphs=100\n",
    "batch_size=50"
   ]
  },
  {
   "cell_type": "code",
   "execution_count": 17,
   "id": "e1502dd8",
   "metadata": {},
   "outputs": [
    {
     "name": "stdout",
     "output_type": "stream",
     "text": [
      "Creating 100 graphs in [50, 50] batches\n"
     ]
    },
    {
     "name": "stderr",
     "output_type": "stream",
     "text": [
      "100%|██████████| 500/500 [00:14<00:00, 33.38it/s]\n",
      "100%|██████████| 500/500 [00:15<00:00, 32.22it/s]\n"
     ]
    },
    {
     "name": "stdout",
     "output_type": "stream",
     "text": [
      "Analyzing molecule stability\n",
      "Error messages: AtomValence 1, Kekulize 0, other 0,  -- No error 99\n",
      "Validity over 100 molecules: 99.00%\n",
      "Number of connected components of 100 molecules: mean:1.00 max:1.00\n",
      "Connected components of 100 molecules: 100.00\n",
      "Sparsity level on local rank 0: 87 %\n",
      "Run time=0:00:47.795955\n",
      "{'mol_stable': 0.9800000190734863, 'atm_stable': 0.9982896447181702, 'validity': 0.9900000095367432, 'sanitize_validity': 0.99, 'novelty': 0.4848484992980957, 'uniqueness': 1.0, 'sampling/NumNodesW1': 0.49896612763404846, 'sampling/AtomTypesTV': 0.017466576769948006, 'sampling/EdgeTypesTV': 0.010771473869681358, 'sampling/ChargeW1': 0.004673334304243326, 'sampling/ValencyW1': 0.025954075157642365, 'sampling/BondLengthsW1': 0.010890845209360123, 'sampling/AnglesW1': 0.9403378963470459, 'connected_components': 100.0, 'bulk_similarity': 0.0760997809949149, 'bulk_diversity': 0.9184974415653269, 'kl_score': 0.9143664893385509, 'QED': 0.4479850513289507, 'SA': 0.5816161616161617, 'LogP': -0.24910515151515136, 'Lipinski': 4.94949494949495, 'Diversity': 0.8804928391082392}\n",
      "   mol_stable  atm_stable  validity  sanitize_validity   novelty  uniqueness  \\\n",
      "0        0.98     0.99829      0.99               0.99  0.484848         1.0   \n",
      "\n",
      "   sampling/NumNodesW1  sampling/AtomTypesTV  sampling/EdgeTypesTV  \\\n",
      "0             0.498966              0.017467              0.010771   \n",
      "\n",
      "   sampling/ChargeW1  ...  sampling/AnglesW1  connected_components  \\\n",
      "0           0.004673  ...           0.940338                 100.0   \n",
      "\n",
      "   bulk_similarity  bulk_diversity  kl_score       QED        SA      LogP  \\\n",
      "0           0.0761        0.918497  0.914366  0.447985  0.581616 -0.249105   \n",
      "\n",
      "   Lipinski  Diversity  \n",
      "0  4.949495   0.880493  \n",
      "\n",
      "[1 rows x 22 columns]\n"
     ]
    }
   ],
   "source": [
    "with torch.no_grad():\n",
    "    results_dict, generated_smiles, stable_molecules = model.run_evaluation(\n",
    "        step=step,\n",
    "        dataset_info=model.dataset_info,\n",
    "        ngraphs=ngraphs,\n",
    "        bs=batch_size,\n",
    "        return_molecules=True,\n",
    "        verbose=True,\n",
    "        inner_verbose=True,\n",
    "        run_test_eval=True,\n",
    "        device=\"cpu\",\n",
    "        save_dir=save_dir,\n",
    "    )"
   ]
  },
  {
   "cell_type": "code",
   "execution_count": 18,
   "id": "841664f4",
   "metadata": {},
   "outputs": [
    {
     "data": {
      "text/html": [
       "<div>\n",
       "<style scoped>\n",
       "    .dataframe tbody tr th:only-of-type {\n",
       "        vertical-align: middle;\n",
       "    }\n",
       "\n",
       "    .dataframe tbody tr th {\n",
       "        vertical-align: top;\n",
       "    }\n",
       "\n",
       "    .dataframe thead th {\n",
       "        text-align: right;\n",
       "    }\n",
       "</style>\n",
       "<table border=\"1\" class=\"dataframe\">\n",
       "  <thead>\n",
       "    <tr style=\"text-align: right;\">\n",
       "      <th></th>\n",
       "      <th>mol_stable</th>\n",
       "      <th>atm_stable</th>\n",
       "      <th>validity</th>\n",
       "      <th>sanitize_validity</th>\n",
       "      <th>novelty</th>\n",
       "      <th>uniqueness</th>\n",
       "      <th>sampling/NumNodesW1</th>\n",
       "      <th>sampling/AtomTypesTV</th>\n",
       "      <th>sampling/EdgeTypesTV</th>\n",
       "      <th>sampling/ChargeW1</th>\n",
       "      <th>...</th>\n",
       "      <th>kl_score</th>\n",
       "      <th>QED</th>\n",
       "      <th>SA</th>\n",
       "      <th>LogP</th>\n",
       "      <th>Lipinski</th>\n",
       "      <th>Diversity</th>\n",
       "      <th>step</th>\n",
       "      <th>epoch</th>\n",
       "      <th>run_time</th>\n",
       "      <th>ngraphs</th>\n",
       "    </tr>\n",
       "  </thead>\n",
       "  <tbody>\n",
       "    <tr>\n",
       "      <th>0</th>\n",
       "      <td>0.98</td>\n",
       "      <td>0.99829</td>\n",
       "      <td>0.99</td>\n",
       "      <td>0.99</td>\n",
       "      <td>0.484848</td>\n",
       "      <td>1.0</td>\n",
       "      <td>0.498966</td>\n",
       "      <td>0.017467</td>\n",
       "      <td>0.010771</td>\n",
       "      <td>0.004673</td>\n",
       "      <td>...</td>\n",
       "      <td>0.914366</td>\n",
       "      <td>0.447985</td>\n",
       "      <td>0.581616</td>\n",
       "      <td>-0.249105</td>\n",
       "      <td>4.949495</td>\n",
       "      <td>0.880493</td>\n",
       "      <td>0</td>\n",
       "      <td>0</td>\n",
       "      <td>0:00:47.795955</td>\n",
       "      <td>100</td>\n",
       "    </tr>\n",
       "  </tbody>\n",
       "</table>\n",
       "<p>1 rows × 26 columns</p>\n",
       "</div>"
      ],
      "text/plain": [
       "   mol_stable  atm_stable  validity  sanitize_validity   novelty  uniqueness  \\\n",
       "0        0.98     0.99829      0.99               0.99  0.484848         1.0   \n",
       "\n",
       "   sampling/NumNodesW1  sampling/AtomTypesTV  sampling/EdgeTypesTV  \\\n",
       "0             0.498966              0.017467              0.010771   \n",
       "\n",
       "   sampling/ChargeW1  ...  kl_score       QED        SA      LogP  Lipinski  \\\n",
       "0           0.004673  ...  0.914366  0.447985  0.581616 -0.249105  4.949495   \n",
       "\n",
       "   Diversity  step  epoch        run_time  ngraphs  \n",
       "0   0.880493     0      0  0:00:47.795955      100  \n",
       "\n",
       "[1 rows x 26 columns]"
      ]
     },
     "execution_count": 18,
     "metadata": {},
     "output_type": "execute_result"
    }
   ],
   "source": [
    "results_dict"
   ]
  },
  {
   "cell_type": "code",
   "execution_count": 19,
   "id": "c9fc7b73",
   "metadata": {},
   "outputs": [
    {
     "data": {
      "application/vnd.jupyter.widget-view+json": {
       "model_id": "0cd838665c6445ba87272371f0b0bff1",
       "version_major": 2,
       "version_minor": 0
      },
      "text/plain": [
       "NGLWidget()"
      ]
     },
     "metadata": {},
     "output_type": "display_data"
    }
   ],
   "source": [
    "nglview.show_rdkit(stable_molecules[0].rdkit_mol)"
   ]
  },
  {
   "cell_type": "markdown",
   "id": "82aa2bba",
   "metadata": {},
   "source": [
    "### Generating only valid molecules"
   ]
  },
  {
   "cell_type": "code",
   "execution_count": 20,
   "id": "1374e911",
   "metadata": {},
   "outputs": [
    {
     "name": "stdout",
     "output_type": "stream",
     "text": [
      "Creating 100 graphs in [50, 50] batches\n"
     ]
    },
    {
     "name": "stderr",
     "output_type": "stream",
     "text": [
      "100%|██████████| 500/500 [00:15<00:00, 32.14it/s]\n",
      "100%|██████████| 500/500 [00:15<00:00, 32.84it/s]\n"
     ]
    },
    {
     "name": "stdout",
     "output_type": "stream",
     "text": [
      "Analyzing molecule stability\n",
      "Error messages: AtomValence 0, Kekulize 0, other 0,  -- No error 100\n",
      "Validity over 100 molecules: 100.00%\n",
      "Number of connected components of 100 molecules: mean:1.00 max:1.00\n",
      "Connected components of 100 molecules: 100.00\n",
      "Analyzing molecule stability\n",
      "Error messages: AtomValence 0, Kekulize 0, other 0,  -- No error 100\n",
      "Validity over 100 molecules: 100.00%\n",
      "Number of connected components of 100 molecules: mean:1.00 max:1.00\n",
      "Connected components of 100 molecules: 100.00\n",
      "Sparsity level on local rank 0: 87 %\n",
      "Run time=0:00:58.614853\n",
      "{'mol_stable': 1.0, 'atm_stable': 1.0, 'validity': 1.0, 'sanitize_validity': 1.0, 'novelty': 0.6600000262260437, 'uniqueness': 1.0, 'sampling/NumNodesW1': 0.5176378488540649, 'sampling/AtomTypesTV': 0.02442755550146103, 'sampling/EdgeTypesTV': 0.007449071388691664, 'sampling/ChargeW1': 0.009620936587452888, 'sampling/ValencyW1': 0.03428169712424278, 'sampling/BondLengthsW1': 0.0013829406816512346, 'sampling/AnglesW1': 0.7992836236953735, 'connected_components': 100.0, 'bulk_similarity': 0.07643040821701305, 'bulk_diversity': 0.9167154139471689, 'kl_score': 0.8153867127128104, 'QED': 0.4415714315675771, 'SA': 0.5947, 'LogP': -0.11739289999999997, 'Lipinski': 4.95, 'Diversity': 0.8823451458677851}\n",
      "   mol_stable  atm_stable  validity  sanitize_validity  novelty  uniqueness  \\\n",
      "0         1.0         1.0       1.0                1.0     0.66         1.0   \n",
      "\n",
      "   sampling/NumNodesW1  sampling/AtomTypesTV  sampling/EdgeTypesTV  \\\n",
      "0             0.517638              0.024428              0.007449   \n",
      "\n",
      "   sampling/ChargeW1  ...  sampling/AnglesW1  connected_components  \\\n",
      "0           0.009621  ...           0.799284                 100.0   \n",
      "\n",
      "   bulk_similarity  bulk_diversity  kl_score       QED      SA      LogP  \\\n",
      "0          0.07643        0.916715  0.815387  0.441571  0.5947 -0.117393   \n",
      "\n",
      "   Lipinski  Diversity  \n",
      "0      4.95   0.882345  \n",
      "\n",
      "[1 rows x 22 columns]\n"
     ]
    }
   ],
   "source": [
    "with torch.no_grad():\n",
    "    results_dict, generated_smiles, stable_molecules = model.generate_valid_samples(\n",
    "        dataset_info=model.dataset_info,\n",
    "        ngraphs=ngraphs,\n",
    "        bs=batch_size,\n",
    "        return_molecules=True,\n",
    "        verbose=True,\n",
    "        inner_verbose=True,\n",
    "        device=\"cpu\",\n",
    "        save_dir=save_dir,\n",
    "    )"
   ]
  },
  {
   "cell_type": "code",
   "execution_count": null,
   "id": "5fd3ddf4",
   "metadata": {},
   "outputs": [],
   "source": []
  }
 ],
 "metadata": {
  "kernelspec": {
   "display_name": "Python 3 (ipykernel)",
   "language": "python",
   "name": "python3"
  },
  "language_info": {
   "codemirror_mode": {
    "name": "ipython",
    "version": 3
   },
   "file_extension": ".py",
   "mimetype": "text/x-python",
   "name": "python",
   "nbconvert_exporter": "python",
   "pygments_lexer": "ipython3",
   "version": "3.10.0"
  }
 },
 "nbformat": 4,
 "nbformat_minor": 5
}
